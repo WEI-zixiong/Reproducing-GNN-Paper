**<font color = red size = 5>COPY FILES**
import os
import shutil
import glob
data_path = r'/nethome/wei00018/mdrun/workflow/out-data'
structures = sorted(glob.glob(data_path + '/*.data'))
os.mkdir(r'/nethome/wei00018/mdrun/workflow/in')
for j in list(range(len(structures))):
    os.mkdir(r'/nethome/wei00018/mdrun/workflow/in/{f}'.format(f = (structures[j].split('/')[6][9:14])))
    with open(r'/nethome/wei00018/mdrun/workflow/init.mod', 'r+') as file:
        lines = file.readlines()
        for i, line in enumerate(lines):
            if i == 34:
                del lines[i]
                lines[i] = 'read_data {f} \n \n'.format(f = structures[j].split('/')[6])
                file.seek(0)
                file.writelines(lines)
    file.close()
    shutil.copy(r'/nethome/wei00018/mdrun/workflow/init.mod', r'/nethome/wei00018/mdrun/workflow/in/{f}'.format(f = (structures[j].split('/')[6][9:14])))
    shutil.copy(r'/nethome/wei00018/mdrun/workflow/displace.mod', r'/nethome/wei00018/mdrun/workflow/in/{f}'.format(f = (structures[j].split('/')[6][9:14])))
    shutil.copy(r'/nethome/wei00018/mdrun/workflow/potential.mod', r'/nethome/wei00018/mdrun/workflow/in/{f}'.format(f = (structures[j].split('/')[6][9:14])))
    shutil.copy(r'/nethome/wei00018/mdrun/workflow/in.elastic', r'/nethome/wei00018/mdrun/workflow/in/{f}'.format(f = (structures[j].split('/')[6][9:14])))
    shutil.copy('{g}'.format(g = (structures[j])), r'/nethome/wei00018/mdrun/workflow/in/{f}'.format(f = (structures[j].split('/')[6][9:14])))
    shutil.copy(r'/nethome/wei00018/mdrun/workflow/run.sh', r'/nethome/wei00018/mdrun/workflow/in/{f}'.format(f = (structures[j].split('/')[6][9:14])))
    shutil.copy(r'/nethome/wei00018/mdrun/workflow/Li.pytorch.nn', r'/nethome/wei00018/mdrun/workflow/in/{f}'.format(f = (structures[j].split('/')[6][9:14])))
    shutil.copy(r'/nethome/wei00018/mdrun/workflow/Si.pytorch.nn', r'/nethome/wei00018/mdrun/workflow/in/{f}'.format(f = (structures[j].split('/')[6][9:14])))
**<font color = red size = 5>SUBMIT JOBS**
import os
import glob
data_path = r'/nethome/wei00018/mdrun/workflow/out-data'
structures = sorted(glob.glob(data_path + '/*.data'))
for j in list(range(len(structures)))[10001:10002]: # params to change
    os.chdir(r'/nethome/wei00018/mdrun/workflow/in/{f}'.format(f = (structures[j].split('/')[6][9:14])))
    os.system('sbatch run.sh')
**<font color = red size = 5>EXTRACT PARAMS**
elastic_ordinary = []
elastic_short = []
line_num = []
for j in list(range(len(structures)))[:10]:
    with open(r'/nethome/wei00018/mdrun/workflow/in/{f}/lammps.out'.format(f = (structures[j].split('/')[6][9:14])), 'r+') as file:
            lines = file.readlines()
            # for i, line in enumerate(lines):
                # if i == 2167:
                #     elastic_ordinary.append(lines[i])
                #     elastic_short.append(elastic_ordinary[j].split()[3])
            elastic_ordinary.append(lines[-5]) # index change, thus use definite order
            elastic_short.append(elastic_ordinary[j].split()[3])
            # print(lines[-5])
    file.close()
elastic_ordinary
elastic_ordinary[0].split()[3]
elastic_short
**<font color = red size = 5>ELASTIC 2 LABEL TXT**
import pandas as pd
import glob
from pandas import Series, DataFrame
data_path = r'/nethome/wei00018/mdrun/workflow/out-data'
structures = sorted(glob.glob(data_path + '/*.data'))
column = []
column_name = r'{}'
for n in list(range(len(structures)))[:10]:
    column.append(column_name.format('Data' + str(n+1).zfill(5)))

df1 = pd.DataFrame(elastic_short, columns=['Bulk Modulus']) 
# df2 = pd.DataFrame(column, columns=['structure'])
# concat = pd.concat([df2, df1], axis = 1, join = 'inner')
# concat.set_index(['structure']) # not working
# concat
df1.index = Series(column)
# df1.to_csv('TEST.txt', sep='\t', index=True, header=False, mode='a')
df1
**<font color = red size = 5>COORDS 2 EDGE**
