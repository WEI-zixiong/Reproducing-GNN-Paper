{
 "cells": [
  {
   "attachments": {},
   "cell_type": "markdown",
   "metadata": {},
   "source": [
    "**<font color = red size = 5>COPY FILES**"
   ]
  },
  {
   "cell_type": "code",
   "execution_count": null,
   "metadata": {},
   "outputs": [],
   "source": [
    "import os\n",
    "import shutil\n",
    "import glob"
   ]
  },
  {
   "cell_type": "code",
   "execution_count": 1,
   "metadata": {},
   "outputs": [],
   "source": [
    "data_path = r'/nethome/wei00018/mdrun/workflow/out-data'\n",
    "structures = sorted(glob.glob(data_path + '/*.data'))\n",
    "os.mkdir(r'/nethome/wei00018/mdrun/workflow/in')\n",
    "for j in list(range(len(structures))):\n",
    "    os.mkdir(r'/nethome/wei00018/mdrun/workflow/in/{f}'.format(f = (structures[j].split('/')[6][9:14])))\n",
    "    with open(r'/nethome/wei00018/mdrun/workflow/init.mod', 'r+') as file:\n",
    "        lines = file.readlines()\n",
    "        for i, line in enumerate(lines):\n",
    "            if i == 34:\n",
    "                del lines[i]\n",
    "                lines[i] = 'read_data {f} \\n \\n'.format(f = structures[j].split('/')[6])\n",
    "                file.seek(0)\n",
    "                file.writelines(lines)\n",
    "    file.close()\n",
    "    shutil.copy(r'/nethome/wei00018/mdrun/workflow/init.mod', r'/nethome/wei00018/mdrun/workflow/in/{f}'.format(f = (structures[j].split('/')[6][9:14])))\n",
    "    shutil.copy(r'/nethome/wei00018/mdrun/workflow/displace.mod', r'/nethome/wei00018/mdrun/workflow/in/{f}'.format(f = (structures[j].split('/')[6][9:14])))\n",
    "    shutil.copy(r'/nethome/wei00018/mdrun/workflow/potential.mod', r'/nethome/wei00018/mdrun/workflow/in/{f}'.format(f = (structures[j].split('/')[6][9:14])))\n",
    "    shutil.copy(r'/nethome/wei00018/mdrun/workflow/in.elastic', r'/nethome/wei00018/mdrun/workflow/in/{f}'.format(f = (structures[j].split('/')[6][9:14])))\n",
    "    shutil.copy('{g}'.format(g = (structures[j])), r'/nethome/wei00018/mdrun/workflow/in/{f}'.format(f = (structures[j].split('/')[6][9:14])))\n",
    "    shutil.copy(r'/nethome/wei00018/mdrun/workflow/run.sh', r'/nethome/wei00018/mdrun/workflow/in/{f}'.format(f = (structures[j].split('/')[6][9:14])))\n",
    "    shutil.copy(r'/nethome/wei00018/mdrun/workflow/Li.pytorch.nn', r'/nethome/wei00018/mdrun/workflow/in/{f}'.format(f = (structures[j].split('/')[6][9:14])))\n",
    "    shutil.copy(r'/nethome/wei00018/mdrun/workflow/Si.pytorch.nn', r'/nethome/wei00018/mdrun/workflow/in/{f}'.format(f = (structures[j].split('/')[6][9:14])))"
   ]
  },
  {
   "attachments": {},
   "cell_type": "markdown",
   "metadata": {},
   "source": [
    "**<font color = red size = 5>SUBMIT JOBS**"
   ]
  },
  {
   "cell_type": "code",
   "execution_count": 2,
   "metadata": {},
   "outputs": [
    {
     "name": "stdout",
     "output_type": "stream",
     "text": [
      "Submitted batch job 95008\n"
     ]
    }
   ],
   "source": [
    "import os\n",
    "import glob\n",
    "data_path = r'/nethome/wei00018/mdrun/workflow/out-data'\n",
    "structures = sorted(glob.glob(data_path + '/*.data'))\n",
    "for j in list(range(len(structures)))[10001:10002]: # params to change\n",
    "    os.chdir(r'/nethome/wei00018/mdrun/workflow/in/{f}'.format(f = (structures[j].split('/')[6][9:14])))\n",
    "    os.system('sbatch run.sh')"
   ]
  },
  {
   "attachments": {},
   "cell_type": "markdown",
   "metadata": {},
   "source": [
    "**<font color = red size = 5>EXTRACT PARAMS**"
   ]
  },
  {
   "cell_type": "code",
   "execution_count": null,
   "metadata": {},
   "outputs": [],
   "source": [
    "elastic_ordinary = []\n",
    "elastic_short = []\n",
    "line_num = []\n",
    "for j in list(range(len(structures)))[:10]:\n",
    "    with open(r'/nethome/wei00018/mdrun/workflow/in/{f}/lammps.out'.format(f = (structures[j].split('/')[6][9:14])), 'r+') as file:\n",
    "            lines = file.readlines()\n",
    "            # for i, line in enumerate(lines):\n",
    "                # if i == 2167:\n",
    "                #     elastic_ordinary.append(lines[i])\n",
    "                #     elastic_short.append(elastic_ordinary[j].split()[3])\n",
    "            elastic_ordinary.append(lines[-5]) # index change, thus use definite order\n",
    "            elastic_short.append(elastic_ordinary[j].split()[3])\n",
    "            # print(lines[-5])\n",
    "    file.close()\n",
    "elastic_ordinary"
   ]
  },
  {
   "cell_type": "code",
   "execution_count": null,
   "metadata": {},
   "outputs": [],
   "source": [
    "elastic_ordinary[0].split()[3]"
   ]
  },
  {
   "cell_type": "code",
   "execution_count": null,
   "metadata": {},
   "outputs": [],
   "source": [
    "elastic_short"
   ]
  },
  {
   "attachments": {},
   "cell_type": "markdown",
   "metadata": {},
   "source": [
    "**<font color = red size = 5>ELASTIC 2 LABEL TXT**"
   ]
  },
  {
   "cell_type": "code",
   "execution_count": 5,
   "metadata": {},
   "outputs": [],
   "source": [
    "import pandas as pd\n",
    "import glob\n",
    "from pandas import Series, DataFrame"
   ]
  },
  {
   "cell_type": "code",
   "execution_count": null,
   "metadata": {},
   "outputs": [],
   "source": [
    "data_path = r'/nethome/wei00018/mdrun/workflow/out-data'\n",
    "structures = sorted(glob.glob(data_path + '/*.data'))\n",
    "column = []\n",
    "column_name = r'{}'\n",
    "for n in list(range(len(structures)))[:10]:\n",
    "    column.append(column_name.format('Data' + str(n+1).zfill(5)))\n",
    "\n",
    "df1 = pd.DataFrame(elastic_short, columns=['Bulk Modulus']) \n",
    "# df2 = pd.DataFrame(column, columns=['structure'])\n",
    "# concat = pd.concat([df2, df1], axis = 1, join = 'inner')\n",
    "# concat.set_index(['structure']) # not working\n",
    "# concat\n",
    "df1.index = Series(column)\n",
    "# df1.to_csv('TEST.txt', sep='\\t', index=True, header=False, mode='a')\n",
    "df1"
   ]
  },
  {
   "attachments": {},
   "cell_type": "markdown",
   "metadata": {},
   "source": [
    "**<font color = red size = 5>COORDS 2 EDGE**"
   ]
  },
  {
   "cell_type": "code",
   "execution_count": null,
   "metadata": {},
   "outputs": [],
   "source": []
  }
 ],
 "metadata": {
  "kernelspec": {
   "display_name": "work",
   "language": "python",
   "name": "python3"
  },
  "language_info": {
   "codemirror_mode": {
    "name": "ipython",
    "version": 3
   },
   "file_extension": ".py",
   "mimetype": "text/x-python",
   "name": "python",
   "nbconvert_exporter": "python",
   "pygments_lexer": "ipython3",
   "version": "3.8.17"
  },
  "orig_nbformat": 4
 },
 "nbformat": 4,
 "nbformat_minor": 2
}
